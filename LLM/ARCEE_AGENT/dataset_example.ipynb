{
 "cells": [
  {
   "cell_type": "code",
   "execution_count": 1,
   "metadata": {},
   "outputs": [
    {
     "name": "stderr",
     "output_type": "stream",
     "text": [
      "/home/laptop/EXERCISES/MISCELLANEOUS/miscellaneous/LLM/ARCEE_AGENT/.venv/lib/python3.12/site-packages/tqdm/auto.py:21: TqdmWarning: IProgress not found. Please update jupyter and ipywidgets. See https://ipywidgets.readthedocs.io/en/stable/user_install.html\n",
      "  from .autonotebook import tqdm as notebook_tqdm\n"
     ]
    }
   ],
   "source": [
    "from datasets import load_from_disk\n",
    "from pprint import pprint\n",
    "import json"
   ]
  },
  {
   "cell_type": "markdown",
   "metadata": {},
   "source": [
    "## Load the Dataset"
   ]
  },
  {
   "cell_type": "code",
   "execution_count": 2,
   "metadata": {},
   "outputs": [
    {
     "data": {
      "text/plain": [
       "Dataset({\n",
       "    features: ['query', 'id', 'answers', 'tools'],\n",
       "    num_rows: 15\n",
       "})"
      ]
     },
     "execution_count": 2,
     "metadata": {},
     "output_type": "execute_result"
    }
   ],
   "source": [
    "ds = load_from_disk(\"./dataset\")\n",
    "ds"
   ]
  },
  {
   "cell_type": "code",
   "execution_count": 3,
   "metadata": {},
   "outputs": [
    {
     "data": {
      "text/plain": [
       "{'query': 'Where can I find live giveaways for beta access and games?',\n",
       " 'id': 0,\n",
       " 'answers': '[{\"name\": \"live_giveaways_by_type\", \"arguments\": {\"type\": \"beta\"}}, {\"name\": \"live_giveaways_by_type\", \"arguments\": {\"type\": \"game\"}}]',\n",
       " 'tools': '[{\"name\": \"live_giveaways_by_type\", \"description\": \"Retrieve live giveaways from the GamerPower API based on the specified type.\", \"parameters\": {\"type\": {\"description\": \"The type of giveaways to retrieve (e.g., game, loot, beta).\", \"type\": \"str\", \"default\": \"game\"}}}]'}"
      ]
     },
     "execution_count": 3,
     "metadata": {},
     "output_type": "execute_result"
    }
   ],
   "source": [
    "example = ds[0]\n",
    "example"
   ]
  },
  {
   "cell_type": "markdown",
   "metadata": {},
   "source": [
    "## Data Example"
   ]
  },
  {
   "cell_type": "code",
   "execution_count": 4,
   "metadata": {},
   "outputs": [
    {
     "name": "stdout",
     "output_type": "stream",
     "text": [
      "Query: Where can I find live giveaways for beta access and games?\n",
      "\n",
      "Tools:\n",
      "{'description': 'Retrieve live giveaways from the GamerPower API based on the '\n",
      "                'specified type.',\n",
      " 'name': 'live_giveaways_by_type',\n",
      " 'parameters': {'type': {'default': 'game',\n",
      "                         'description': 'The type of giveaways to retrieve '\n",
      "                                        '(e.g., game, loot, beta).',\n",
      "                         'type': 'str'}}}\n",
      "\n",
      "Answer:\n",
      "{'arguments': {'type': 'beta'}, 'name': 'live_giveaways_by_type'}\n"
     ]
    }
   ],
   "source": [
    "print(f\"Query: {example['query']}\")\n",
    "print()\n",
    "print(\"Tools:\")\n",
    "pprint(json.loads(example[\"tools\"])[0])\n",
    "print()\n",
    "print(\"Answer:\")\n",
    "pprint(json.loads(example[\"answers\"])[0])"
   ]
  },
  {
   "cell_type": "markdown",
   "metadata": {},
   "source": [
    "**Note: you won't have the \"answer\" column in our private test set!**"
   ]
  },
  {
   "cell_type": "markdown",
   "metadata": {},
   "source": [
    "## Example for expected output"
   ]
  },
  {
   "cell_type": "code",
   "execution_count": 6,
   "metadata": {},
   "outputs": [
    {
     "data": {
      "text/plain": [
       "'[{\"arguments\": {\"type\": \"test_arg\"}, \"name\": \"test_tool\"}]'"
      ]
     },
     "execution_count": 6,
     "metadata": {},
     "output_type": "execute_result"
    }
   ],
   "source": [
    "example_answer = [{\"arguments\": {\"type\": \"test_arg\"}, \"name\": \"test_tool\"}]\n",
    "example_str = json.dumps(example_answer)\n",
    "example_str"
   ]
  },
  {
   "cell_type": "code",
   "execution_count": 7,
   "metadata": {},
   "outputs": [
    {
     "data": {
      "text/plain": [
       "Dataset({\n",
       "    features: ['query', 'id', 'answers', 'tools', 'my_answers'],\n",
       "    num_rows: 15\n",
       "})"
      ]
     },
     "execution_count": 7,
     "metadata": {},
     "output_type": "execute_result"
    }
   ],
   "source": [
    "ds = ds.add_column(\"my_answers\", [example_str for _ in ds[\"query\"]])\n",
    "ds"
   ]
  },
  {
   "cell_type": "code",
   "execution_count": 30,
   "metadata": {},
   "outputs": [],
   "source": [
    "# This would save the modified dataset to disk\n",
    "# ds.save_to_disk(\"./my_dataset\")"
   ]
  },
  {
   "cell_type": "markdown",
   "metadata": {},
   "source": [
    "# Complete Arcee Agent Function Calling Workflow\n",
    "\n",
    "This section demonstrates the complete workflow for using Arcee Agent with function calling."
   ]
  },
  {
   "cell_type": "code",
   "execution_count": 5,
   "metadata": {},
   "outputs": [
    {
     "name": "stdout",
     "output_type": "stream",
     "text": [
      "Query: Where can I find live giveaways for beta access and games?\n",
      "\n",
      "Tools:\n",
      "[{'description': 'Retrieve live giveaways from the GamerPower API based on the '\n",
      "                 'specified type.',\n",
      "  'name': 'live_giveaways_by_type',\n",
      "  'parameters': {'type': {'default': 'game',\n",
      "                          'description': 'The type of giveaways to retrieve '\n",
      "                                         '(e.g., game, loot, beta).',\n",
      "                          'type': 'str'}}}]\n",
      "\n",
      "==================================================\n",
      "FUNCTION CALLING PROMPT:\n",
      "==================================================\n",
      "You are an AI assistant with access to the following tools:\n",
      "\n",
      "[\n",
      "  {\n",
      "    \"name\": \"live_giveaways_by_type\",\n",
      "    \"description\": \"Retrieve live giveaways from the GamerPower API based on the specified type.\",\n",
      "    \"parameters\": {\n",
      "      \"type\": {\n",
      "        \"description\": \"The type of giveaways to retrieve (e.g., game, loot, beta).\",\n",
      "        \"type\": \"str\",\n",
      "        \"default\": \"game\"\n",
      "      }\n",
      "    }\n",
      "  }\n",
      "]\n",
      "\n",
      "Based on the user's query, determine which tool(s) to call and with what arguments.\n",
      "Your response should be a JSON array of tool calls in the format:\n",
      "[{\"name\": \"tool_name\", \"arguments\": {\"param\": \"value\"}}]\n",
      "\n",
      "User Query: Where can I find live giveaways for beta access and games?\n",
      "\n",
      "Tool Calls:\n"
     ]
    }
   ],
   "source": [
    "# Import our main functions\n",
    "import sys\n",
    "sys.path.append('.')\n",
    "from main import create_function_calling_prompt, parse_tool_calls\n",
    "\n",
    "# Test with the first example\n",
    "example = ds[0]\n",
    "query = example['query']\n",
    "tools = json.loads(example['tools'])\n",
    "\n",
    "print(\"Query:\", query)\n",
    "print(\"\\nTools:\")\n",
    "pprint(tools)\n",
    "\n",
    "# Create function calling prompt\n",
    "prompt = create_function_calling_prompt(query, tools)\n",
    "print(\"\\n\" + \"=\"*50)\n",
    "print(\"FUNCTION CALLING PROMPT:\")\n",
    "print(\"=\"*50)\n",
    "print(prompt)"
   ]
  },
  {
   "cell_type": "code",
   "execution_count": 6,
   "metadata": {},
   "outputs": [
    {
     "name": "stdout",
     "output_type": "stream",
     "text": [
      "Expected Model Response:\n",
      "[\n",
      "  {\n",
      "    \"name\": \"live_giveaways_by_type\",\n",
      "    \"arguments\": {\n",
      "      \"type\": \"beta\"\n",
      "    }\n",
      "  },\n",
      "  {\n",
      "    \"name\": \"live_giveaways_by_type\", \n",
      "    \"arguments\": {\n",
      "      \"type\": \"game\"\n",
      "    }\n",
      "  }\n",
      "]\n",
      "\n",
      "Parsed Tool Calls:\n",
      "[{'arguments': {'type': 'beta'}, 'name': 'live_giveaways_by_type'},\n",
      " {'arguments': {'type': 'game'}, 'name': 'live_giveaways_by_type'}]\n",
      "\n",
      "Ground Truth:\n",
      "[{'arguments': {'type': 'beta'}, 'name': 'live_giveaways_by_type'},\n",
      " {'arguments': {'type': 'game'}, 'name': 'live_giveaways_by_type'}]\n",
      "\n",
      "Matches ground truth: True\n"
     ]
    }
   ],
   "source": [
    "# Test the tool call parsing with expected response format\n",
    "expected_response = '''[\n",
    "  {\n",
    "    \"name\": \"live_giveaways_by_type\",\n",
    "    \"arguments\": {\n",
    "      \"type\": \"beta\"\n",
    "    }\n",
    "  },\n",
    "  {\n",
    "    \"name\": \"live_giveaways_by_type\", \n",
    "    \"arguments\": {\n",
    "      \"type\": \"game\"\n",
    "    }\n",
    "  }\n",
    "]'''\n",
    "\n",
    "print(\"Expected Model Response:\")\n",
    "print(expected_response)\n",
    "\n",
    "# Parse the tool calls\n",
    "parsed_calls = parse_tool_calls(expected_response)\n",
    "print(\"\\nParsed Tool Calls:\")\n",
    "pprint(parsed_calls)\n",
    "\n",
    "# Compare with ground truth\n",
    "ground_truth = json.loads(example['answers'])\n",
    "print(\"\\nGround Truth:\")\n",
    "pprint(ground_truth)\n",
    "\n",
    "print(f\"\\nMatches ground truth: {parsed_calls == ground_truth}\")"
   ]
  },
  {
   "cell_type": "markdown",
   "metadata": {},
   "source": [
    "## Running the Complete Workflow\n",
    "\n",
    "To run the complete Arcee Agent function calling workflow:\n",
    "\n",
    "### 1. Using Ollama (Recommended for beginners)\n",
    "\n",
    "```bash\n",
    "# First, install Ollama from https://ollama.ai/\n",
    "# Then run the demo\n",
    "python demo_ollama.py\n",
    "```\n",
    "\n",
    "### 2. Using the main script with Ollama\n",
    "\n",
    "```bash\n",
    "# After Ollama is set up\n",
    "python main.py --model arcee-ai/arcee-agent --base_url http://127.0.0.1:11434/v1 --max_samples 5 --evaluate\n",
    "```\n",
    "\n",
    "### 3. Using VLLM (for production)\n",
    "\n",
    "```bash\n",
    "# Install VLLM\n",
    "pip install vllm\n",
    "\n",
    "# Start VLLM server\n",
    "vllm serve arcee-ai/Arcee-Agent --port 8000\n",
    "\n",
    "# In another terminal\n",
    "python main.py --model arcee-ai/Arcee-Agent --base_url http://127.0.0.1:8000/v1 --max_samples 5 --evaluate\n",
    "```\n",
    "\n",
    "### 4. Using local quantized model\n",
    "\n",
    "```bash\n",
    "# Download the model first\n",
    "python main.py --download_model\n",
    "\n",
    "# Use local model\n",
    "python main.py --model arcee-agent-local --use_local_model --max_samples 5\n",
    "```"
   ]
  }
 ],
 "metadata": {
  "kernelspec": {
   "display_name": ".venv",
   "language": "python",
   "name": "python3"
  },
  "language_info": {
   "codemirror_mode": {
    "name": "ipython",
    "version": 3
   },
   "file_extension": ".py",
   "mimetype": "text/x-python",
   "name": "python",
   "nbconvert_exporter": "python",
   "pygments_lexer": "ipython3",
   "version": "3.12.3"
  }
 },
 "nbformat": 4,
 "nbformat_minor": 2
}
