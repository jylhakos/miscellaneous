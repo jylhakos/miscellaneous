{
 "cells": [
  {
   "cell_type": "code",
   "execution_count": 2,
   "metadata": {},
   "outputs": [],
   "source": [
    "from datasets import load_from_disk\n",
    "from pprint import pprint\n",
    "import json"
   ]
  },
  {
   "cell_type": "markdown",
   "metadata": {},
   "source": [
    "## Load the Dataset"
   ]
  },
  {
   "cell_type": "code",
   "execution_count": 3,
   "metadata": {},
   "outputs": [
    {
     "data": {
      "text/plain": [
       "Dataset({\n",
       "    features: ['query', 'id', 'answers', 'tools'],\n",
       "    num_rows: 15\n",
       "})"
      ]
     },
     "execution_count": 3,
     "metadata": {},
     "output_type": "execute_result"
    }
   ],
   "source": [
    "ds = load_from_disk(\"./dataset\")\n",
    "ds"
   ]
  },
  {
   "cell_type": "code",
   "execution_count": 4,
   "metadata": {},
   "outputs": [
    {
     "data": {
      "text/plain": [
       "{'query': 'Where can I find live giveaways for beta access and games?',\n",
       " 'id': 0,\n",
       " 'answers': '[{\"name\": \"live_giveaways_by_type\", \"arguments\": {\"type\": \"beta\"}}, {\"name\": \"live_giveaways_by_type\", \"arguments\": {\"type\": \"game\"}}]',\n",
       " 'tools': '[{\"name\": \"live_giveaways_by_type\", \"description\": \"Retrieve live giveaways from the GamerPower API based on the specified type.\", \"parameters\": {\"type\": {\"description\": \"The type of giveaways to retrieve (e.g., game, loot, beta).\", \"type\": \"str\", \"default\": \"game\"}}}]'}"
      ]
     },
     "execution_count": 4,
     "metadata": {},
     "output_type": "execute_result"
    }
   ],
   "source": [
    "example = ds[0]\n",
    "example"
   ]
  },
  {
   "cell_type": "markdown",
   "metadata": {},
   "source": [
    "## Data Example"
   ]
  },
  {
   "cell_type": "code",
   "execution_count": 5,
   "metadata": {},
   "outputs": [
    {
     "name": "stdout",
     "output_type": "stream",
     "text": [
      "Query: Where can I find live giveaways for beta access and games?\n",
      "\n",
      "Tools:\n",
      "{'description': 'Retrieve live giveaways from the GamerPower API based on the '\n",
      "                'specified type.',\n",
      " 'name': 'live_giveaways_by_type',\n",
      " 'parameters': {'type': {'default': 'game',\n",
      "                         'description': 'The type of giveaways to retrieve '\n",
      "                                        '(e.g., game, loot, beta).',\n",
      "                         'type': 'str'}}}\n",
      "\n",
      "Answer:\n",
      "{'arguments': {'type': 'beta'}, 'name': 'live_giveaways_by_type'}\n"
     ]
    }
   ],
   "source": [
    "print(f\"Query: {example['query']}\")\n",
    "print()\n",
    "print(\"Tools:\")\n",
    "pprint(json.loads(example[\"tools\"])[0])\n",
    "print()\n",
    "print(\"Answer:\")\n",
    "pprint(json.loads(example[\"answers\"])[0])"
   ]
  },
  {
   "cell_type": "markdown",
   "metadata": {},
   "source": [
    "**Note: you won't have the \"answer\" column in our private test set!**"
   ]
  },
  {
   "cell_type": "markdown",
   "metadata": {},
   "source": [
    "## Example for expected output"
   ]
  },
  {
   "cell_type": "code",
   "execution_count": 6,
   "metadata": {},
   "outputs": [
    {
     "data": {
      "text/plain": [
       "'[{\"arguments\": {\"type\": \"test_arg\"}, \"name\": \"test_tool\"}]'"
      ]
     },
     "execution_count": 6,
     "metadata": {},
     "output_type": "execute_result"
    }
   ],
   "source": [
    "example_answer = [{\"arguments\": {\"type\": \"test_arg\"}, \"name\": \"test_tool\"}]\n",
    "example_str = json.dumps(example_answer)\n",
    "example_str"
   ]
  },
  {
   "cell_type": "code",
   "execution_count": 7,
   "metadata": {},
   "outputs": [
    {
     "data": {
      "text/plain": [
       "Dataset({\n",
       "    features: ['query', 'id', 'answers', 'tools', 'my_answers'],\n",
       "    num_rows: 15\n",
       "})"
      ]
     },
     "execution_count": 7,
     "metadata": {},
     "output_type": "execute_result"
    }
   ],
   "source": [
    "ds = ds.add_column(\"my_answers\", [example_str for _ in ds[\"query\"]])\n",
    "ds"
   ]
  },
  {
   "cell_type": "code",
   "execution_count": 30,
   "metadata": {},
   "outputs": [],
   "source": [
    "# This would save the modified dataset to disk\n",
    "# ds.save_to_disk(\"./my_dataset\")"
   ]
  }
 ],
 "metadata": {
  "kernelspec": {
   "display_name": ".venv",
   "language": "python",
   "name": "python3"
  },
  "language_info": {
   "codemirror_mode": {
    "name": "ipython",
    "version": 3
   },
   "file_extension": ".py",
   "mimetype": "text/x-python",
   "name": "python",
   "nbconvert_exporter": "python",
   "pygments_lexer": "ipython3",
   "version": "3.10.14"
  }
 },
 "nbformat": 4,
 "nbformat_minor": 2
}
